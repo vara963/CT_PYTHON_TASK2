{
  "nbformat": 4,
  "nbformat_minor": 0,
  "metadata": {
    "colab": {
      "provenance": []
    },
    "kernelspec": {
      "name": "python3",
      "display_name": "Python 3"
    },
    "language_info": {
      "name": "python"
    }
  },
  "cells": [
    {
      "cell_type": "code",
      "execution_count": 1,
      "metadata": {
        "colab": {
          "base_uri": "https://localhost:8080/",
          "height": 191
        },
        "id": "g3MSDYEO81Tj",
        "outputId": "2e228c0c-7d38-4d9c-83e0-46aecc43bf49"
      },
      "outputs": [
        {
          "output_type": "stream",
          "name": "stdout",
          "text": [
            "Collecting fpdf\n",
            "  Downloading fpdf-1.7.2.tar.gz (39 kB)\n",
            "  Preparing metadata (setup.py) ... \u001b[?25l\u001b[?25hdone\n",
            "Building wheels for collected packages: fpdf\n",
            "  Building wheel for fpdf (setup.py) ... \u001b[?25l\u001b[?25hdone\n",
            "  Created wheel for fpdf: filename=fpdf-1.7.2-py2.py3-none-any.whl size=40704 sha256=5f8817e0537b0ab0a1da8ecf6e29fb07fb301435647adc6984d4b9a1b4ad0f7c\n",
            "  Stored in directory: /root/.cache/pip/wheels/65/4f/66/bbda9866da446a72e206d6484cd97381cbc7859a7068541c36\n",
            "Successfully built fpdf\n",
            "Installing collected packages: fpdf\n",
            "Successfully installed fpdf-1.7.2\n"
          ]
        },
        {
          "output_type": "display_data",
          "data": {
            "text/plain": [
              "<IPython.core.display.Javascript object>"
            ],
            "application/javascript": [
              "\n",
              "    async function download(id, filename, size) {\n",
              "      if (!google.colab.kernel.accessAllowed) {\n",
              "        return;\n",
              "      }\n",
              "      const div = document.createElement('div');\n",
              "      const label = document.createElement('label');\n",
              "      label.textContent = `Downloading \"${filename}\": `;\n",
              "      div.appendChild(label);\n",
              "      const progress = document.createElement('progress');\n",
              "      progress.max = size;\n",
              "      div.appendChild(progress);\n",
              "      document.body.appendChild(div);\n",
              "\n",
              "      const buffers = [];\n",
              "      let downloaded = 0;\n",
              "\n",
              "      const channel = await google.colab.kernel.comms.open(id);\n",
              "      // Send a message to notify the kernel that we're ready.\n",
              "      channel.send({})\n",
              "\n",
              "      for await (const message of channel.messages) {\n",
              "        // Send a message to notify the kernel that we're ready.\n",
              "        channel.send({})\n",
              "        if (message.buffers) {\n",
              "          for (const buffer of message.buffers) {\n",
              "            buffers.push(buffer);\n",
              "            downloaded += buffer.byteLength;\n",
              "            progress.value = downloaded;\n",
              "          }\n",
              "        }\n",
              "      }\n",
              "      const blob = new Blob(buffers, {type: 'application/binary'});\n",
              "      const a = document.createElement('a');\n",
              "      a.href = window.URL.createObjectURL(blob);\n",
              "      a.download = filename;\n",
              "      div.appendChild(a);\n",
              "      a.click();\n",
              "      div.remove();\n",
              "    }\n",
              "  "
            ]
          },
          "metadata": {}
        },
        {
          "output_type": "display_data",
          "data": {
            "text/plain": [
              "<IPython.core.display.Javascript object>"
            ],
            "application/javascript": [
              "download(\"download_174c59e0-779d-4959-b207-d363399d5e59\", \"report.pdf\", 1336)"
            ]
          },
          "metadata": {}
        }
      ],
      "source": [
        "# Step 1: Install required library\n",
        "!pip install fpdf\n",
        "\n",
        "# Step 2: Create and save sample data as data.csv\n",
        "import pandas as pd\n",
        "\n",
        "# Sample data\n",
        "data = {\n",
        "    'Name': ['Varshini', 'Ravi', 'Anjali', 'Kiran'],\n",
        "    'Score': [85, 90, 78, 92]\n",
        "}\n",
        "\n",
        "df = pd.DataFrame(data)\n",
        "df.to_csv('data.csv', index=False)\n",
        "\n",
        "# Step 3: Read CSV and generate PDF report using FPDF\n",
        "from fpdf import FPDF\n",
        "\n",
        "# Load the data\n",
        "df = pd.read_csv(\"data.csv\")\n",
        "\n",
        "# Basic analysis\n",
        "average_score = df[\"Score\"].mean()\n",
        "highest_score = df[\"Score\"].max()\n",
        "lowest_score = df[\"Score\"].min()\n",
        "\n",
        "# Create PDF report\n",
        "pdf = FPDF()\n",
        "pdf.add_page()\n",
        "pdf.set_font(\"Arial\", size=12)\n",
        "\n",
        "# Title\n",
        "pdf.set_font(\"Arial\", 'B', 16)\n",
        "pdf.cell(200, 10, txt=\"Student Score Report\", ln=True, align='C')\n",
        "\n",
        "# Summary\n",
        "pdf.set_font(\"Arial\", size=12)\n",
        "pdf.ln(10)\n",
        "pdf.cell(200, 10, txt=f\"Average Score: {average_score:.2f}\", ln=True)\n",
        "pdf.cell(200, 10, txt=f\"Highest Score: {highest_score}\", ln=True)\n",
        "pdf.cell(200, 10, txt=f\"Lowest Score: {lowest_score}\", ln=True)\n",
        "\n",
        "# Table header\n",
        "pdf.ln(10)\n",
        "pdf.set_font(\"Arial\", 'B', 12)\n",
        "pdf.cell(100, 10, txt=\"Name\", border=1)\n",
        "pdf.cell(50, 10, txt=\"Score\", border=1)\n",
        "pdf.ln()\n",
        "\n",
        "# Table rows\n",
        "pdf.set_font(\"Arial\", size=12)\n",
        "for index, row in df.iterrows():\n",
        "    pdf.cell(100, 10, txt=row['Name'], border=1)\n",
        "    pdf.cell(50, 10, txt=str(row['Score']), border=1)\n",
        "    pdf.ln()\n",
        "\n",
        "# Save the PDF\n",
        "pdf.output(\"report.pdf\")\n",
        "\n",
        "# Step 4: Download the generated PDF\n",
        "from google.colab import files\n",
        "files.download(\"report.pdf\")\n"
      ]
    }
  ]
}